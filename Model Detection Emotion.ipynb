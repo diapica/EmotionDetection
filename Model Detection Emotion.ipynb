{
  "nbformat": 4,
  "nbformat_minor": 0,
  "metadata": {
    "colab": {
      "name": "Skripsi-2.ipynb",
      "provenance": [],
      "collapsed_sections": [
        "JmP0HWB8mvGJ",
        "LdoQr-IcRuzB",
        "tQlHg9MlZwoY",
        "77xnUFFTk_Qy",
        "Dmlvo7L2i8Ax",
        "klwIdJFBmUtr",
        "O44Idb6ASPA0",
        "UI1cEQnd5umZ"
      ],
      "authorship_tag": "ABX9TyP8Hi1+u3I3qKZy9GtHHOs1",
      "include_colab_link": true
    },
    "kernelspec": {
      "name": "python3",
      "display_name": "Python 3"
    },
    "language_info": {
      "name": "python"
    },
    "accelerator": "GPU"
  },
  "cells": [
    {
      "cell_type": "markdown",
      "metadata": {
        "id": "view-in-github",
        "colab_type": "text"
      },
      "source": [
        "<a href=\"https://colab.research.google.com/github/diapica/EmotionDetection/blob/main/Model%20Detection%20Emotion.ipynb\" target=\"_parent\"><img src=\"https://colab.research.google.com/assets/colab-badge.svg\" alt=\"Open In Colab\"/></a>"
      ]
    },
    {
      "cell_type": "code",
      "metadata": {
        "id": "5TIq8ryIRSdv"
      },
      "source": [
        "# Import Library\n",
        "import pandas as pd\n",
        "import tensorflow as tf\n",
        "import numpy as np\n",
        "import matplotlib.pyplot as plt\n",
        "import re\n",
        "import ast"
      ],
      "execution_count": null,
      "outputs": []
    },
    {
      "cell_type": "code",
      "metadata": {
        "id": "gGS46d8YRc3t"
      },
      "source": [
        "# Read Dataset\n",
        "filename = 'Twitter_Emotion_Dataset.csv'\n",
        "df = pd.read_csv(filename)\n",
        "orig_df = pd.read_csv(filename)"
      ],
      "execution_count": null,
      "outputs": []
    },
    {
      "cell_type": "markdown",
      "metadata": {
        "id": "JmP0HWB8mvGJ"
      },
      "source": [
        "# Data Understanding"
      ]
    },
    {
      "cell_type": "code",
      "metadata": {
        "colab": {
          "base_uri": "https://localhost:8080/"
        },
        "id": "oI63KzcyRjbG",
        "outputId": "24583c6d-0826-4924-dd61-f30caf528f4a"
      },
      "source": [
        "# About dataset\n",
        "df.info()"
      ],
      "execution_count": null,
      "outputs": [
        {
          "output_type": "stream",
          "text": [
            "<class 'pandas.core.frame.DataFrame'>\n",
            "RangeIndex: 4401 entries, 0 to 4400\n",
            "Data columns (total 3 columns):\n",
            " #   Column      Non-Null Count  Dtype \n",
            "---  ------      --------------  ----- \n",
            " 0   Unnamed: 0  4401 non-null   int64 \n",
            " 1   label       4401 non-null   object\n",
            " 2   tweet       4401 non-null   object\n",
            "dtypes: int64(1), object(2)\n",
            "memory usage: 103.3+ KB\n"
          ],
          "name": "stdout"
        }
      ]
    },
    {
      "cell_type": "code",
      "metadata": {
        "id": "b7NOBtR6RlRd"
      },
      "source": [
        "x = df['label'].unique()\n",
        "y = df['label'].value_counts()"
      ],
      "execution_count": null,
      "outputs": []
    },
    {
      "cell_type": "code",
      "metadata": {
        "colab": {
          "base_uri": "https://localhost:8080/",
          "height": 334
        },
        "id": "h39vP7iCRnCg",
        "outputId": "b74030e9-855c-4fa6-873f-611e989f383c"
      },
      "source": [
        "plt.xlabel('Emotion')\n",
        "plt.ylabel('Amounts')\n",
        "plt.bar(x,y, color='gray')\n",
        "for a,b in zip(x, y): \n",
        "    plt.text(a, b, str(b))\n",
        "\n",
        "plt.gcf().set_size_inches(8, 5)\n",
        "plt.show()"
      ],
      "execution_count": null,
      "outputs": [
        {
          "output_type": "display_data",
          "data": {
            "image/png": "[encoded data removed]",
            "text/plain": [
              "<Figure size 576x360 with 1 Axes>"
            ]
          },
          "metadata": {
            "tags": [],
            "needs_background": "light"
          }
        }
      ]
    },
    {
      "cell_type": "markdown",
      "metadata": {
        "id": "SNYSoHUJRqjA"
      },
      "source": [
        "# Preprocessing"
      ]
    },
    {
      "cell_type": "markdown",
      "metadata": {
        "id": "LdoQr-IcRuzB"
      },
      "source": [
        "### Data Normalization \n",
        "\n",
        "\n",
        "*   Case Folding\n",
        "*   Remove words, punctuation, whitepace, and number\n",
        "*   Normalize Alay Words\n",
        "\n",
        "\n",
        "\n"
      ]
    },
    {
      "cell_type": "code",
      "metadata": {
        "id": "hmKfsu4_R5e-"
      },
      "source": [
        "def case_folding(text):\n",
        "  text = text.lower()\n",
        "  return text\n",
        "\n",
        "df['tweet'] = df['tweet'].apply(case_folding) "
      ],
      "execution_count": null,
      "outputs": []
    },
    {
      "cell_type": "code",
      "metadata": {
        "id": "HdeRUJTSSOoP"
      },
      "source": [
        "substitute_word = ['[username]', '[url]', '[sensitive-no']\n",
        "\n",
        "def remove_words(text):\n",
        "  text = ' '.join('' if words in substitute_word else words for words in text.split(' '))\n",
        "  text = re.sub(r\"[^\\w\\s]\", ' ', text)\n",
        "  text = re.sub(r\"\\d+\", '', text)\n",
        "  text = text.strip()\n",
        "  return text\n",
        "\n",
        "df['tweet'] = df['tweet'].apply(remove_words) "
      ],
      "execution_count": null,
      "outputs": []
    },
    {
      "cell_type": "code",
      "metadata": {
        "id": "PlQnwlpWWrbq",
        "colab": {
          "base_uri": "https://localhost:8080/",
          "height": 354
        },
        "outputId": "006e3306-84d4-4926-e62e-31f520fd6e0c"
      },
      "source": [
        "# import and made dict for kamus alay to normalize abbreviation and misspelling\n",
        "alay_dict = pd.read_csv('new_kamusalay.csv', encoding='latin-1', header=None)\n",
        "alay_dict = alay_dict.rename(columns={0: 'original', 1: 'replacement'}) \n",
        "alay_dict_map = dict(zip(alay_dict['original'], alay_dict['replacement']))"
      ],
      "execution_count": null,
      "outputs": [
        {
          "output_type": "error",
          "ename": "FileNotFoundError",
          "evalue": "ignored",
          "traceback": [
            "\u001b[0;31m---------------------------------------------------------------------------\u001b[0m",
            "\u001b[0;31mFileNotFoundError\u001b[0m                         Traceback (most recent call last)",
            "\u001b[0;32m<ipython-input-8-1a62d8592c22>\u001b[0m in \u001b[0;36m<module>\u001b[0;34m()\u001b[0m\n\u001b[1;32m      1\u001b[0m \u001b[0;31m# import and made dict for kamus alay to normalize abbreviation and misspelling\u001b[0m\u001b[0;34m\u001b[0m\u001b[0;34m\u001b[0m\u001b[0;34m\u001b[0m\u001b[0m\n\u001b[0;32m----> 2\u001b[0;31m \u001b[0malay_dict\u001b[0m \u001b[0;34m=\u001b[0m \u001b[0mpd\u001b[0m\u001b[0;34m.\u001b[0m\u001b[0mread_csv\u001b[0m\u001b[0;34m(\u001b[0m\u001b[0;34m'new_kamusalay.csv'\u001b[0m\u001b[0;34m,\u001b[0m \u001b[0mencoding\u001b[0m\u001b[0;34m=\u001b[0m\u001b[0;34m'latin-1'\u001b[0m\u001b[0;34m,\u001b[0m \u001b[0mheader\u001b[0m\u001b[0;34m=\u001b[0m\u001b[0;32mNone\u001b[0m\u001b[0;34m)\u001b[0m\u001b[0;34m\u001b[0m\u001b[0;34m\u001b[0m\u001b[0m\n\u001b[0m\u001b[1;32m      3\u001b[0m \u001b[0malay_dict\u001b[0m \u001b[0;34m=\u001b[0m \u001b[0malay_dict\u001b[0m\u001b[0;34m.\u001b[0m\u001b[0mrename\u001b[0m\u001b[0;34m(\u001b[0m\u001b[0mcolumns\u001b[0m\u001b[0;34m=\u001b[0m\u001b[0;34m{\u001b[0m\u001b[0;36m0\u001b[0m\u001b[0;34m:\u001b[0m \u001b[0;34m'original'\u001b[0m\u001b[0;34m,\u001b[0m \u001b[0;36m1\u001b[0m\u001b[0;34m:\u001b[0m \u001b[0;34m'replacement'\u001b[0m\u001b[0;34m}\u001b[0m\u001b[0;34m)\u001b[0m\u001b[0;34m\u001b[0m\u001b[0;34m\u001b[0m\u001b[0m\n\u001b[1;32m      4\u001b[0m \u001b[0malay_dict_map\u001b[0m \u001b[0;34m=\u001b[0m \u001b[0mdict\u001b[0m\u001b[0;34m(\u001b[0m\u001b[0mzip\u001b[0m\u001b[0;34m(\u001b[0m\u001b[0malay_dict\u001b[0m\u001b[0;34m[\u001b[0m\u001b[0;34m'original'\u001b[0m\u001b[0;34m]\u001b[0m\u001b[0;34m,\u001b[0m \u001b[0malay_dict\u001b[0m\u001b[0;34m[\u001b[0m\u001b[0;34m'replacement'\u001b[0m\u001b[0;34m]\u001b[0m\u001b[0;34m)\u001b[0m\u001b[0;34m)\u001b[0m\u001b[0;34m\u001b[0m\u001b[0;34m\u001b[0m\u001b[0m\n",
            "\u001b[0;32m/usr/local/lib/python3.7/dist-packages/pandas/io/parsers.py\u001b[0m in \u001b[0;36mread_csv\u001b[0;34m(filepath_or_buffer, sep, delimiter, header, names, index_col, usecols, squeeze, prefix, mangle_dupe_cols, dtype, engine, converters, true_values, false_values, skipinitialspace, skiprows, skipfooter, nrows, na_values, keep_default_na, na_filter, verbose, skip_blank_lines, parse_dates, infer_datetime_format, keep_date_col, date_parser, dayfirst, cache_dates, iterator, chunksize, compression, thousands, decimal, lineterminator, quotechar, quoting, doublequote, escapechar, comment, encoding, dialect, error_bad_lines, warn_bad_lines, delim_whitespace, low_memory, memory_map, float_precision)\u001b[0m\n\u001b[1;32m    686\u001b[0m     )\n\u001b[1;32m    687\u001b[0m \u001b[0;34m\u001b[0m\u001b[0m\n\u001b[0;32m--> 688\u001b[0;31m     \u001b[0;32mreturn\u001b[0m \u001b[0m_read\u001b[0m\u001b[0;34m(\u001b[0m\u001b[0mfilepath_or_buffer\u001b[0m\u001b[0;34m,\u001b[0m \u001b[0mkwds\u001b[0m\u001b[0;34m)\u001b[0m\u001b[0;34m\u001b[0m\u001b[0;34m\u001b[0m\u001b[0m\n\u001b[0m\u001b[1;32m    689\u001b[0m \u001b[0;34m\u001b[0m\u001b[0m\n\u001b[1;32m    690\u001b[0m \u001b[0;34m\u001b[0m\u001b[0m\n",
            "\u001b[0;32m/usr/local/lib/python3.7/dist-packages/pandas/io/parsers.py\u001b[0m in \u001b[0;36m_read\u001b[0;34m(filepath_or_buffer, kwds)\u001b[0m\n\u001b[1;32m    452\u001b[0m \u001b[0;34m\u001b[0m\u001b[0m\n\u001b[1;32m    453\u001b[0m     \u001b[0;31m# Create the parser.\u001b[0m\u001b[0;34m\u001b[0m\u001b[0;34m\u001b[0m\u001b[0;34m\u001b[0m\u001b[0m\n\u001b[0;32m--> 454\u001b[0;31m     \u001b[0mparser\u001b[0m \u001b[0;34m=\u001b[0m \u001b[0mTextFileReader\u001b[0m\u001b[0;34m(\u001b[0m\u001b[0mfp_or_buf\u001b[0m\u001b[0;34m,\u001b[0m \u001b[0;34m**\u001b[0m\u001b[0mkwds\u001b[0m\u001b[0;34m)\u001b[0m\u001b[0;34m\u001b[0m\u001b[0;34m\u001b[0m\u001b[0m\n\u001b[0m\u001b[1;32m    455\u001b[0m \u001b[0;34m\u001b[0m\u001b[0m\n\u001b[1;32m    456\u001b[0m     \u001b[0;32mif\u001b[0m \u001b[0mchunksize\u001b[0m \u001b[0;32mor\u001b[0m \u001b[0miterator\u001b[0m\u001b[0;34m:\u001b[0m\u001b[0;34m\u001b[0m\u001b[0;34m\u001b[0m\u001b[0m\n",
            "\u001b[0;32m/usr/local/lib/python3.7/dist-packages/pandas/io/parsers.py\u001b[0m in \u001b[0;36m__init__\u001b[0;34m(self, f, engine, **kwds)\u001b[0m\n\u001b[1;32m    946\u001b[0m             \u001b[0mself\u001b[0m\u001b[0;34m.\u001b[0m\u001b[0moptions\u001b[0m\u001b[0;34m[\u001b[0m\u001b[0;34m\"has_index_names\"\u001b[0m\u001b[0;34m]\u001b[0m \u001b[0;34m=\u001b[0m \u001b[0mkwds\u001b[0m\u001b[0;34m[\u001b[0m\u001b[0;34m\"has_index_names\"\u001b[0m\u001b[0;34m]\u001b[0m\u001b[0;34m\u001b[0m\u001b[0;34m\u001b[0m\u001b[0m\n\u001b[1;32m    947\u001b[0m \u001b[0;34m\u001b[0m\u001b[0m\n\u001b[0;32m--> 948\u001b[0;31m         \u001b[0mself\u001b[0m\u001b[0;34m.\u001b[0m\u001b[0m_make_engine\u001b[0m\u001b[0;34m(\u001b[0m\u001b[0mself\u001b[0m\u001b[0;34m.\u001b[0m\u001b[0mengine\u001b[0m\u001b[0;34m)\u001b[0m\u001b[0;34m\u001b[0m\u001b[0;34m\u001b[0m\u001b[0m\n\u001b[0m\u001b[1;32m    949\u001b[0m \u001b[0;34m\u001b[0m\u001b[0m\n\u001b[1;32m    950\u001b[0m     \u001b[0;32mdef\u001b[0m \u001b[0mclose\u001b[0m\u001b[0;34m(\u001b[0m\u001b[0mself\u001b[0m\u001b[0;34m)\u001b[0m\u001b[0;34m:\u001b[0m\u001b[0;34m\u001b[0m\u001b[0;34m\u001b[0m\u001b[0m\n",
            "\u001b[0;32m/usr/local/lib/python3.7/dist-packages/pandas/io/parsers.py\u001b[0m in \u001b[0;36m_make_engine\u001b[0;34m(self, engine)\u001b[0m\n\u001b[1;32m   1178\u001b[0m     \u001b[0;32mdef\u001b[0m \u001b[0m_make_engine\u001b[0m\u001b[0;34m(\u001b[0m\u001b[0mself\u001b[0m\u001b[0;34m,\u001b[0m \u001b[0mengine\u001b[0m\u001b[0;34m=\u001b[0m\u001b[0;34m\"c\"\u001b[0m\u001b[0;34m)\u001b[0m\u001b[0;34m:\u001b[0m\u001b[0;34m\u001b[0m\u001b[0;34m\u001b[0m\u001b[0m\n\u001b[1;32m   1179\u001b[0m         \u001b[0;32mif\u001b[0m \u001b[0mengine\u001b[0m \u001b[0;34m==\u001b[0m \u001b[0;34m\"c\"\u001b[0m\u001b[0;34m:\u001b[0m\u001b[0;34m\u001b[0m\u001b[0;34m\u001b[0m\u001b[0m\n\u001b[0;32m-> 1180\u001b[0;31m             \u001b[0mself\u001b[0m\u001b[0;34m.\u001b[0m\u001b[0m_engine\u001b[0m \u001b[0;34m=\u001b[0m \u001b[0mCParserWrapper\u001b[0m\u001b[0;34m(\u001b[0m\u001b[0mself\u001b[0m\u001b[0;34m.\u001b[0m\u001b[0mf\u001b[0m\u001b[0;34m,\u001b[0m \u001b[0;34m**\u001b[0m\u001b[0mself\u001b[0m\u001b[0;34m.\u001b[0m\u001b[0moptions\u001b[0m\u001b[0;34m)\u001b[0m\u001b[0;34m\u001b[0m\u001b[0;34m\u001b[0m\u001b[0m\n\u001b[0m\u001b[1;32m   1181\u001b[0m         \u001b[0;32melse\u001b[0m\u001b[0;34m:\u001b[0m\u001b[0;34m\u001b[0m\u001b[0;34m\u001b[0m\u001b[0m\n\u001b[1;32m   1182\u001b[0m             \u001b[0;32mif\u001b[0m \u001b[0mengine\u001b[0m \u001b[0;34m==\u001b[0m \u001b[0;34m\"python\"\u001b[0m\u001b[0;34m:\u001b[0m\u001b[0;34m\u001b[0m\u001b[0;34m\u001b[0m\u001b[0m\n",
            "\u001b[0;32m/usr/local/lib/python3.7/dist-packages/pandas/io/parsers.py\u001b[0m in \u001b[0;36m__init__\u001b[0;34m(self, src, **kwds)\u001b[0m\n\u001b[1;32m   1991\u001b[0m         \u001b[0;32mif\u001b[0m \u001b[0mkwds\u001b[0m\u001b[0;34m.\u001b[0m\u001b[0mget\u001b[0m\u001b[0;34m(\u001b[0m\u001b[0;34m\"compression\"\u001b[0m\u001b[0;34m)\u001b[0m \u001b[0;32mis\u001b[0m \u001b[0;32mNone\u001b[0m \u001b[0;32mand\u001b[0m \u001b[0mencoding\u001b[0m\u001b[0;34m:\u001b[0m\u001b[0;34m\u001b[0m\u001b[0;34m\u001b[0m\u001b[0m\n\u001b[1;32m   1992\u001b[0m             \u001b[0;32mif\u001b[0m \u001b[0misinstance\u001b[0m\u001b[0;34m(\u001b[0m\u001b[0msrc\u001b[0m\u001b[0;34m,\u001b[0m \u001b[0mstr\u001b[0m\u001b[0;34m)\u001b[0m\u001b[0;34m:\u001b[0m\u001b[0;34m\u001b[0m\u001b[0;34m\u001b[0m\u001b[0m\n\u001b[0;32m-> 1993\u001b[0;31m                 \u001b[0msrc\u001b[0m \u001b[0;34m=\u001b[0m \u001b[0mopen\u001b[0m\u001b[0;34m(\u001b[0m\u001b[0msrc\u001b[0m\u001b[0;34m,\u001b[0m \u001b[0;34m\"rb\"\u001b[0m\u001b[0;34m)\u001b[0m\u001b[0;34m\u001b[0m\u001b[0;34m\u001b[0m\u001b[0m\n\u001b[0m\u001b[1;32m   1994\u001b[0m                 \u001b[0mself\u001b[0m\u001b[0;34m.\u001b[0m\u001b[0mhandles\u001b[0m\u001b[0;34m.\u001b[0m\u001b[0mappend\u001b[0m\u001b[0;34m(\u001b[0m\u001b[0msrc\u001b[0m\u001b[0;34m)\u001b[0m\u001b[0;34m\u001b[0m\u001b[0;34m\u001b[0m\u001b[0m\n\u001b[1;32m   1995\u001b[0m \u001b[0;34m\u001b[0m\u001b[0m\n",
            "\u001b[0;31mFileNotFoundError\u001b[0m: [Errno 2] No such file or directory: 'new_kamusalay.csv'"
          ]
        }
      ]
    },
    {
      "cell_type": "code",
      "metadata": {
        "id": "FDD_qPL4SO5W"
      },
      "source": [
        "new_alay_dict = pd.read_csv('new_ka.csv', encoding='latin-1', header=None)\n",
        "new_alay_dict = new_alay_dict.rename(columns={0: 'original', 1: 'replacement'}) \n",
        "new_alay_dict_map = dict(zip(new_alay_dict['original'], new_alay_dict['replacement']))"
      ],
      "execution_count": null,
      "outputs": []
    },
    {
      "cell_type": "code",
      "metadata": {
        "id": "bw25i0w1WtF5"
      },
      "source": [
        "with open(\"combined_slang.txt\", \"r\") as data:\n",
        "    combined_slang_map = ast.literal_eval(data.read())"
      ],
      "execution_count": null,
      "outputs": []
    },
    {
      "cell_type": "code",
      "metadata": {
        "id": "DNSTGfnSXAbj"
      },
      "source": [
        "def normalize_alay(text):         \n",
        "  text = ' '.join([alay_dict_map[word] if word in alay_dict_map else word for word in text.split(' ')])          \n",
        "  text = re.sub('  +', ' ', text)     \n",
        "  text = ' '.join([combined_slang_map[word] if word in combined_slang_map else word for word in text.split(' ')])          \n",
        "  text = re.sub('  +', ' ', text)         \n",
        "  text = ' '.join([new_alay_dict_map[word] if word in new_alay_dict_map else word for word in text.split(' ')])\n",
        "  text = re.sub('  +', ' ', text)\n",
        "  return text \n",
        "\n",
        "df['tweet'] = df['tweet'].apply(normalize_alay) "
      ],
      "execution_count": null,
      "outputs": []
    },
    {
      "cell_type": "markdown",
      "metadata": {
        "id": "tQlHg9MlZwoY"
      },
      "source": [
        "### Stemming"
      ]
    },
    {
      "cell_type": "code",
      "metadata": {
        "id": "RCDUlZsrZyro"
      },
      "source": [
        "#!pip install Sastrawi\n",
        "from Sastrawi.Stemmer.StemmerFactory import StemmerFactory\n",
        "factory_stm = StemmerFactory()\n",
        "stemmer = factory_stm.create_stemmer()\n",
        "def stem(text):\n",
        "  text = stemmer.stem(text)\n",
        "  return text\n",
        "  \n",
        "df['tweet'] = df['tweet'].apply(stem) "
      ],
      "execution_count": null,
      "outputs": []
    },
    {
      "cell_type": "code",
      "metadata": {
        "id": "8f_dlGfJds6O"
      },
      "source": [
        "## Read Dataset\n",
        "filename = 'stem_emotion_dataset_210506.csv'\n",
        "df = pd.read_csv(filename)"
      ],
      "execution_count": null,
      "outputs": []
    },
    {
      "cell_type": "markdown",
      "metadata": {
        "id": "77xnUFFTk_Qy"
      },
      "source": [
        "### Tokenizing"
      ]
    },
    {
      "cell_type": "code",
      "metadata": {
        "id": "Lh8vPknylCRM"
      },
      "source": [
        "from tensorflow.keras.preprocessing.text import Tokenizer\n",
        "# Membuat kamus bahasa indonesia untuk indexing dataset nantinya\n",
        "# Semakin banyak kata yang dimiliki semakin baik\n",
        "# Kali ini masih menggunakan dataset yang dimiliki sebagai daftar kamus (tweet yang telah di normalisasi & stemming)\n",
        "tokenizer = Tokenizer(oov_token='<OOV>')\n",
        "tokenizer.fit_on_texts(df['tweet'])"
      ],
      "execution_count": null,
      "outputs": []
    },
    {
      "cell_type": "code",
      "metadata": {
        "colab": {
          "base_uri": "https://localhost:8080/"
        },
        "id": "RgVceYtclQHW",
        "outputId": "e50e5751-bcb5-4706-b880-6f2eaf74ddc1"
      },
      "source": [
        "vocab_size = len(tokenizer.word_index) + 1 #index start from 0\n",
        "print(vocab_size) "
      ],
      "execution_count": null,
      "outputs": [
        {
          "output_type": "stream",
          "text": [
            "10717\n"
          ],
          "name": "stdout"
        }
      ]
    },
    {
      "cell_type": "code",
      "metadata": {
        "colab": {
          "base_uri": "https://localhost:8080/"
        },
        "id": "bjs4RGE7ltyF",
        "outputId": "00372fd4-29ce-4332-9ed2-72ecf31fc258"
      },
      "source": [
        "# Encode dataset yang kita miliki kedalam index berdasarkan kamus yang dibangun sebelumnya.\n",
        "data = tokenizer.texts_to_sequences(df['tweet'])\n",
        "data[0]"
      ],
      "execution_count": null,
      "outputs": [
        {
          "output_type": "execute_result",
          "data": {
            "text/plain": [
              "[166,\n",
              " 94,\n",
              " 3378,\n",
              " 560,\n",
              " 4,\n",
              " 18,\n",
              " 4951,\n",
              " 433,\n",
              " 4952,\n",
              " 560,\n",
              " 4,\n",
              " 167,\n",
              " 588,\n",
              " 68,\n",
              " 400,\n",
              " 561,\n",
              " 1448,\n",
              " 637,\n",
              " 433,\n",
              " 166,\n",
              " 691,\n",
              " 609,\n",
              " 166,\n",
              " 442,\n",
              " 442,\n",
              " 4953,\n",
              " 168,\n",
              " 349]"
            ]
          },
          "metadata": {
            "tags": []
          },
          "execution_count": 6
        }
      ]
    },
    {
      "cell_type": "code",
      "metadata": {
        "colab": {
          "base_uri": "https://localhost:8080/"
        },
        "id": "sRZjUN8jw2NG",
        "outputId": "00faf719-abcf-41c7-dd60-3a08a997400f"
      },
      "source": [
        "tokenizer.index_word[166]"
      ],
      "execution_count": null,
      "outputs": [
        {
          "output_type": "execute_result",
          "data": {
            "application/vnd.google.colaboratory.intrinsic+json": {
              "type": "string"
            },
            "text/plain": [
              "'soal'"
            ]
          },
          "metadata": {
            "tags": []
          },
          "execution_count": 7
        }
      ]
    },
    {
      "cell_type": "code",
      "metadata": {
        "colab": {
          "base_uri": "https://localhost:8080/"
        },
        "id": "gDzirL-d0ZcQ",
        "outputId": "9626c90c-dbe3-4cb3-9d39-4138a415eb9f"
      },
      "source": [
        "print(\"Tweet 1: {0} Kata, Tweet2: {1} Kata\".format(len(data[0]), len(data[1])))"
      ],
      "execution_count": null,
      "outputs": [
        {
          "output_type": "stream",
          "text": [
            "Tweet 1: 28 Kata, Tweet2: 35 Kata\n"
          ],
          "name": "stdout"
        }
      ]
    },
    {
      "cell_type": "code",
      "metadata": {
        "colab": {
          "base_uri": "https://localhost:8080/"
        },
        "id": "vcI9eXl01ncS",
        "outputId": "9cbcf6ab-844b-4ca6-ca20-7dd7797db4cf"
      },
      "source": [
        "len(data)"
      ],
      "execution_count": null,
      "outputs": [
        {
          "output_type": "execute_result",
          "data": {
            "text/plain": [
              "4401"
            ]
          },
          "metadata": {
            "tags": []
          },
          "execution_count": 9
        }
      ]
    },
    {
      "cell_type": "code",
      "metadata": {
        "colab": {
          "base_uri": "https://localhost:8080/"
        },
        "id": "0m3XU0eCukly",
        "outputId": "5b16967c-1a3d-4326-9734-6c9b4930df61"
      },
      "source": [
        "# Memastikan semua data memiliki panjang yang sama (dimensi)\n",
        "from tensorflow.keras.preprocessing.sequence import pad_sequences\n",
        "data_pad = pad_sequences(data, padding='post')\n",
        "print(\"Tweet 1: {0} Kata, Tweet2: {1} Kata\".format(len(data_pad[0]), len(data_pad[1])))"
      ],
      "execution_count": null,
      "outputs": [
        {
          "output_type": "stream",
          "text": [
            "Tweet 1: 85 Kata, Tweet2: 85 Kata\n"
          ],
          "name": "stdout"
        }
      ]
    },
    {
      "cell_type": "markdown",
      "metadata": {
        "id": "Dmlvo7L2i8Ax"
      },
      "source": [
        "### One Hot Encoding"
      ]
    },
    {
      "cell_type": "code",
      "metadata": {
        "id": "IlrDRhXci-22"
      },
      "source": [
        "label = pd.get_dummies(df['label'])"
      ],
      "execution_count": null,
      "outputs": []
    },
    {
      "cell_type": "code",
      "metadata": {
        "colab": {
          "base_uri": "https://localhost:8080/"
        },
        "id": "4wHAw6U-jXE4",
        "outputId": "6d7be547-2658-4d6f-a386-f8bdf416fc70"
      },
      "source": [
        "# before one hot encoding\n",
        "df['label'][:5]"
      ],
      "execution_count": null,
      "outputs": [
        {
          "output_type": "execute_result",
          "data": {
            "text/plain": [
              "0    anger\n",
              "1    anger\n",
              "2    happy\n",
              "3    anger\n",
              "4    happy\n",
              "Name: label, dtype: object"
            ]
          },
          "metadata": {
            "tags": []
          },
          "execution_count": 12
        }
      ]
    },
    {
      "cell_type": "code",
      "metadata": {
        "colab": {
          "base_uri": "https://localhost:8080/"
        },
        "id": "hqd6wGTKjYE7",
        "outputId": "c469a206-3d42-41bc-d251-9a3322b7bcf2"
      },
      "source": [
        "# after one hot encoding\n",
        "label[:5]"
      ],
      "execution_count": null,
      "outputs": [
        {
          "output_type": "execute_result",
          "data": {
            "text/html": [
              "<div>\n",
              "<style scoped>\n",
              "    .dataframe tbody tr th:only-of-type {\n",
              "        vertical-align: middle;\n",
              "    }\n",
              "\n",
              "    .dataframe tbody tr th {\n",
              "        vertical-align: top;\n",
              "    }\n",
              "\n",
              "    .dataframe thead th {\n",
              "        text-align: right;\n",
              "    }\n",
              "</style>\n",
              "<table border=\"1\" class=\"dataframe\">\n",
              "  <thead>\n",
              "    <tr style=\"text-align: right;\">\n",
              "      <th></th>\n",
              "      <th>anger</th>\n",
              "      <th>fear</th>\n",
              "      <th>happy</th>\n",
              "      <th>love</th>\n",
              "      <th>sadness</th>\n",
              "    </tr>\n",
              "  </thead>\n",
              "  <tbody>\n",
              "    <tr>\n",
              "      <th>0</th>\n",
              "      <td>1</td>\n",
              "      <td>0</td>\n",
              "      <td>0</td>\n",
              "      <td>0</td>\n",
              "      <td>0</td>\n",
              "    </tr>\n",
              "    <tr>\n",
              "      <th>1</th>\n",
              "      <td>1</td>\n",
              "      <td>0</td>\n",
              "      <td>0</td>\n",
              "      <td>0</td>\n",
              "      <td>0</td>\n",
              "    </tr>\n",
              "    <tr>\n",
              "      <th>2</th>\n",
              "      <td>0</td>\n",
              "      <td>0</td>\n",
              "      <td>1</td>\n",
              "      <td>0</td>\n",
              "      <td>0</td>\n",
              "    </tr>\n",
              "    <tr>\n",
              "      <th>3</th>\n",
              "      <td>1</td>\n",
              "      <td>0</td>\n",
              "      <td>0</td>\n",
              "      <td>0</td>\n",
              "      <td>0</td>\n",
              "    </tr>\n",
              "    <tr>\n",
              "      <th>4</th>\n",
              "      <td>0</td>\n",
              "      <td>0</td>\n",
              "      <td>1</td>\n",
              "      <td>0</td>\n",
              "      <td>0</td>\n",
              "    </tr>\n",
              "  </tbody>\n",
              "</table>\n",
              "</div>"
            ],
            "text/plain": [
              "   anger  fear  happy  love  sadness\n",
              "0      1     0      0     0        0\n",
              "1      1     0      0     0        0\n",
              "2      0     0      1     0        0\n",
              "3      1     0      0     0        0\n",
              "4      0     0      1     0        0"
            ]
          },
          "metadata": {
            "tags": []
          },
          "execution_count": 13
        }
      ]
    },
    {
      "cell_type": "markdown",
      "metadata": {
        "id": "klwIdJFBmUtr"
      },
      "source": [
        "### Split Data"
      ]
    },
    {
      "cell_type": "code",
      "metadata": {
        "colab": {
          "base_uri": "https://localhost:8080/"
        },
        "id": "ERCvisQimWuV",
        "outputId": "c81b0cb6-fb6e-465d-defc-435cda8438f9"
      },
      "source": [
        "# Split data 7:3\n",
        "from sklearn.model_selection import train_test_split as tts\n",
        "\n",
        "x_train, x_test, y_train, y_test = tts(data_pad, label, test_size=.3, \n",
        "                                       random_state=42, shuffle=True, \n",
        "                                       stratify=label)\n",
        "\n",
        "print(\"Train data = {0} data \\nTest data = {1} \".format(len(x_train), len(x_test)))"
      ],
      "execution_count": null,
      "outputs": [
        {
          "output_type": "stream",
          "text": [
            "Train data = 3080 data \n",
            "Test data = 1321 \n"
          ],
          "name": "stdout"
        }
      ]
    },
    {
      "cell_type": "code",
      "metadata": {
        "colab": {
          "base_uri": "https://localhost:8080/"
        },
        "id": "OS3IwZuywKyY",
        "outputId": "e1ea0473-e3bc-4097-9862-81783d7ed145"
      },
      "source": [
        "y_train_data = y_train.value_counts()\n",
        "y_train_data"
      ],
      "execution_count": null,
      "outputs": [
        {
          "output_type": "execute_result",
          "data": {
            "text/plain": [
              "anger  fear  happy  love  sadness\n",
              "1      0     0      0     0          770\n",
              "0      0     1      0     0          712\n",
              "             0      0     1          698\n",
              "       1     0      0     0          454\n",
              "       0     0      1     0          446\n",
              "dtype: int64"
            ]
          },
          "metadata": {
            "tags": []
          },
          "execution_count": 15
        }
      ]
    },
    {
      "cell_type": "code",
      "metadata": {
        "colab": {
          "base_uri": "https://localhost:8080/"
        },
        "id": "L4frljp2wcxN",
        "outputId": "4d91d4c5-846e-4393-c950-0064c4b353c9"
      },
      "source": [
        "y_test_data = y_test.value_counts()\n",
        "y_test_data"
      ],
      "execution_count": null,
      "outputs": [
        {
          "output_type": "execute_result",
          "data": {
            "text/plain": [
              "anger  fear  happy  love  sadness\n",
              "1      0     0      0     0          331\n",
              "0      0     1      0     0          305\n",
              "             0      0     1          299\n",
              "       1     0      0     0          195\n",
              "       0     0      1     0          191\n",
              "dtype: int64"
            ]
          },
          "metadata": {
            "tags": []
          },
          "execution_count": 16
        }
      ]
    },
    {
      "cell_type": "markdown",
      "metadata": {
        "id": "O44Idb6ASPA0"
      },
      "source": [
        "### Original Tweet vs Normalize Tweet"
      ]
    },
    {
      "cell_type": "code",
      "metadata": {
        "colab": {
          "base_uri": "https://localhost:8080/",
          "height": 52
        },
        "id": "hZON9dOPSCiv",
        "outputId": "b77260d8-81f7-477d-ba48-2cb0df5c4bae"
      },
      "source": [
        "#Before Stemming\n",
        "df['tweet'][0]"
      ],
      "execution_count": null,
      "outputs": [
        {
          "output_type": "execute_result",
          "data": {
            "application/vnd.google.colaboratory.intrinsic+json": {
              "type": "string"
            },
            "text/plain": [
              "'soal jalan jatibaru polisi tidak bisa gertak gubernur emangny polisi tidak ikut bahas jangan politik atur wilayah hak gubernur soal tanah abang soal turun turun pelik perlu sabar'"
            ]
          },
          "metadata": {
            "tags": []
          },
          "execution_count": 21
        }
      ]
    },
    {
      "cell_type": "code",
      "metadata": {
        "colab": {
          "base_uri": "https://localhost:8080/",
          "height": 52
        },
        "id": "I3RD7cZtSJYO",
        "outputId": "32c1c66f-d906-4c87-f151-c2724a9da5d5"
      },
      "source": [
        "#After Stemming\n",
        "df['tweet'][0]"
      ],
      "execution_count": null,
      "outputs": [
        {
          "output_type": "execute_result",
          "data": {
            "application/vnd.google.colaboratory.intrinsic+json": {
              "type": "string"
            },
            "text/plain": [
              "'soal jalan jatibaru polisi tidak bisa gertak gubernur emangny polisi tidak ikut bahas jangan politik atur wilayah hak gubernur soal tanah abang soal turun turun pelik perlu sabar'"
            ]
          },
          "metadata": {
            "tags": []
          },
          "execution_count": 22
        }
      ]
    },
    {
      "cell_type": "markdown",
      "metadata": {
        "id": "E4jVRdT05oWb"
      },
      "source": [
        "# Modeling"
      ]
    },
    {
      "cell_type": "markdown",
      "metadata": {
        "id": "UI1cEQnd5umZ"
      },
      "source": [
        "### Build Model"
      ]
    },
    {
      "cell_type": "code",
      "metadata": {
        "id": "8z5AZgvq5t1n",
        "colab": {
          "base_uri": "https://localhost:8080/"
        },
        "outputId": "e106becd-708c-4f0c-be35-aba3e87cc561"
      },
      "source": [
        "from tensorflow.keras.layers import LSTM\n",
        "# hyper paramater\n",
        "embedding_size = 200\n",
        "lstm_size = 100\n",
        "\n",
        "model = tf.keras.Sequential([\n",
        "    tf.keras.layers.Embedding(vocab_size, embedding_size, input_length = x_train.shape[1]),\n",
        "    #tf.keras.layers.Conv1D(filters=50, kernel_size=1, activation='tanh'),\n",
        "    #tf.keras.layers.MaxPooling1D(2),\n",
        "    tf.keras.layers.Bidirectional(LSTM(lstm_size)),\n",
        "    tf.keras.layers.Flatten(),\n",
        "    tf.keras.layers.Dense(128, activation='tanh'),\n",
        "    #tf.keras.layers.Dense(64, activation='tanh'),\n",
        "    #tf.keras.layers.Dense(32, activation='tanh'),\n",
        "    #tf.keras.layers.Dense(5, activation='sigmoid',  kernel_regularizer='l2')\n",
        "    tf.keras.layers.Dense(5, activation='softmax')\n",
        "])\n",
        "\n",
        "model.compile(loss='categorical_crossentropy', optimizer=tf.keras.optimizers.Adam(learning_rate=0.001), metrics=['accuracy'])\n",
        "model.summary()"
      ],
      "execution_count": null,
      "outputs": [
        {
          "output_type": "stream",
          "text": [
            "Model: \"sequential\"\n",
            "_________________________________________________________________\n",
            "Layer (type)                 Output Shape              Param #   \n",
            "=================================================================\n",
            "embedding (Embedding)        (None, 85, 200)           2143400   \n",
            "_________________________________________________________________\n",
            "bidirectional (Bidirectional (None, 200)               240800    \n",
            "_________________________________________________________________\n",
            "flatten (Flatten)            (None, 200)               0         \n",
            "_________________________________________________________________\n",
            "dense (Dense)                (None, 128)               25728     \n",
            "_________________________________________________________________\n",
            "dense_1 (Dense)              (None, 5)                 645       \n",
            "=================================================================\n",
            "Total params: 2,410,573\n",
            "Trainable params: 2,410,573\n",
            "Non-trainable params: 0\n",
            "_________________________________________________________________\n"
          ],
          "name": "stdout"
        }
      ]
    },
    {
      "cell_type": "markdown",
      "metadata": {
        "id": "JqamgXfR5yIR"
      },
      "source": [
        "### Train Model"
      ]
    },
    {
      "cell_type": "code",
      "metadata": {
        "id": "XU0-rdxP53wa",
        "colab": {
          "base_uri": "https://localhost:8080/"
        },
        "outputId": "8a9e3980-b340-48d2-8ea9-135a3508724b"
      },
      "source": [
        "num_epochs = 30\n",
        "\n",
        "history = model.fit(x_train, y_train, \n",
        "                    epochs=num_epochs, \n",
        "                    validation_data=(x_test, y_test), verbose=2)\n",
        "\n",
        "print(\"Training Complete\")"
      ],
      "execution_count": null,
      "outputs": [
        {
          "output_type": "stream",
          "text": [
            "Epoch 1/30\n",
            "97/97 - 13s - loss: 1.3678 - accuracy: 0.4003 - val_loss: 1.1313 - val_accuracy: 0.5382\n",
            "Epoch 2/30\n",
            "97/97 - 3s - loss: 0.7125 - accuracy: 0.7425 - val_loss: 1.0257 - val_accuracy: 0.6064\n",
            "Epoch 3/30\n",
            "97/97 - 3s - loss: 0.2864 - accuracy: 0.9091 - val_loss: 1.1842 - val_accuracy: 0.6109\n",
            "Epoch 4/30\n",
            "97/97 - 3s - loss: 0.1290 - accuracy: 0.9627 - val_loss: 1.5343 - val_accuracy: 0.5905\n",
            "Epoch 5/30\n",
            "97/97 - 3s - loss: 0.0614 - accuracy: 0.9834 - val_loss: 1.7114 - val_accuracy: 0.6003\n",
            "Epoch 6/30\n",
            "97/97 - 3s - loss: 0.0290 - accuracy: 0.9922 - val_loss: 2.1086 - val_accuracy: 0.5867\n",
            "Epoch 7/30\n",
            "97/97 - 3s - loss: 0.0192 - accuracy: 0.9968 - val_loss: 2.1974 - val_accuracy: 0.5935\n",
            "Epoch 8/30\n",
            "97/97 - 3s - loss: 0.0094 - accuracy: 0.9981 - val_loss: 2.1340 - val_accuracy: 0.5942\n",
            "Epoch 9/30\n",
            "97/97 - 3s - loss: 0.0173 - accuracy: 0.9951 - val_loss: 2.4599 - val_accuracy: 0.5625\n",
            "Epoch 10/30\n",
            "97/97 - 3s - loss: 0.0357 - accuracy: 0.9886 - val_loss: 2.2589 - val_accuracy: 0.5836\n",
            "Epoch 11/30\n",
            "97/97 - 3s - loss: 0.0331 - accuracy: 0.9873 - val_loss: 2.5292 - val_accuracy: 0.5753\n",
            "Epoch 12/30\n",
            "97/97 - 3s - loss: 0.0288 - accuracy: 0.9899 - val_loss: 2.9996 - val_accuracy: 0.5685\n",
            "Epoch 13/30\n",
            "97/97 - 3s - loss: 0.0552 - accuracy: 0.9834 - val_loss: 2.4167 - val_accuracy: 0.5708\n",
            "Epoch 14/30\n",
            "97/97 - 3s - loss: 0.0155 - accuracy: 0.9968 - val_loss: 2.5018 - val_accuracy: 0.5738\n",
            "Epoch 15/30\n",
            "97/97 - 3s - loss: 0.0246 - accuracy: 0.9938 - val_loss: 2.7211 - val_accuracy: 0.5814\n",
            "Epoch 16/30\n",
            "97/97 - 3s - loss: 0.0143 - accuracy: 0.9958 - val_loss: 2.6883 - val_accuracy: 0.6026\n",
            "Epoch 17/30\n",
            "97/97 - 3s - loss: 0.0115 - accuracy: 0.9964 - val_loss: 2.8075 - val_accuracy: 0.5655\n",
            "Epoch 18/30\n",
            "97/97 - 3s - loss: 0.0062 - accuracy: 0.9987 - val_loss: 2.8983 - val_accuracy: 0.5776\n",
            "Epoch 19/30\n",
            "97/97 - 3s - loss: 0.0033 - accuracy: 0.9990 - val_loss: 2.9845 - val_accuracy: 0.5829\n",
            "Epoch 20/30\n",
            "97/97 - 3s - loss: 0.0021 - accuracy: 0.9994 - val_loss: 2.9962 - val_accuracy: 0.5829\n",
            "Epoch 21/30\n",
            "97/97 - 3s - loss: 0.0014 - accuracy: 0.9997 - val_loss: 3.0235 - val_accuracy: 0.5852\n",
            "Epoch 22/30\n",
            "97/97 - 3s - loss: 0.0014 - accuracy: 0.9997 - val_loss: 3.0445 - val_accuracy: 0.5814\n",
            "Epoch 23/30\n",
            "97/97 - 3s - loss: 0.0011 - accuracy: 0.9997 - val_loss: 3.0735 - val_accuracy: 0.5836\n",
            "Epoch 24/30\n",
            "97/97 - 3s - loss: 9.5604e-04 - accuracy: 0.9997 - val_loss: 3.1016 - val_accuracy: 0.5821\n",
            "Epoch 25/30\n",
            "97/97 - 3s - loss: 0.0011 - accuracy: 0.9994 - val_loss: 3.1207 - val_accuracy: 0.5821\n",
            "Epoch 26/30\n",
            "97/97 - 3s - loss: 0.0011 - accuracy: 0.9994 - val_loss: 3.1488 - val_accuracy: 0.5791\n",
            "Epoch 27/30\n",
            "97/97 - 3s - loss: 9.6130e-04 - accuracy: 0.9997 - val_loss: 3.1651 - val_accuracy: 0.5799\n",
            "Epoch 28/30\n",
            "97/97 - 3s - loss: 9.5487e-04 - accuracy: 0.9994 - val_loss: 3.1934 - val_accuracy: 0.5799\n",
            "Epoch 29/30\n",
            "97/97 - 3s - loss: 0.0010 - accuracy: 0.9994 - val_loss: 3.2127 - val_accuracy: 0.5799\n",
            "Epoch 30/30\n",
            "97/97 - 3s - loss: 9.7247e-04 - accuracy: 0.9997 - val_loss: 3.2272 - val_accuracy: 0.5791\n",
            "Training Complete\n"
          ],
          "name": "stdout"
        }
      ]
    },
    {
      "cell_type": "markdown",
      "metadata": {
        "id": "G-asNaLPog-7"
      },
      "source": [
        "# Evaluation"
      ]
    },
    {
      "cell_type": "markdown",
      "metadata": {
        "id": "Db8_S2LqoiqU"
      },
      "source": [
        "### Accuracy & Loss Compare"
      ]
    },
    {
      "cell_type": "code",
      "metadata": {
        "colab": {
          "base_uri": "https://localhost:8080/",
          "height": 606
        },
        "id": "840rke2WoqMd",
        "outputId": "7da55cd5-ddbc-42d7-c2a0-138215293da7"
      },
      "source": [
        "import matplotlib.image  as mpimg\n",
        "#-----------------------------------------------------------\n",
        "# Retrieve a list of list results on training and test data\n",
        "# sets for each training epoch\n",
        "#-----------------------------------------------------------\n",
        "acc=history.history['accuracy']\n",
        "val_acc=history.history['val_accuracy']\n",
        "loss=history.history['loss']\n",
        "val_loss=history.history['val_loss']\n",
        "\n",
        "epochs=range(len(acc)) # Get number of epochs\n",
        "\n",
        "#------------------------------------------------\n",
        "# Plot training and validation accuracy per epoch\n",
        "#------------------------------------------------\n",
        "plt.plot(epochs, acc, 'r')\n",
        "plt.plot(epochs, val_acc, 'b')\n",
        "plt.title('Training and validation accuracy')\n",
        "plt.xlabel(\"Epochs\")\n",
        "plt.ylabel(\"Accuracy\")\n",
        "plt.legend([\"Accuracy\", \"Validation Accuracy\"])\n",
        "\n",
        "plt.figure()\n",
        "\n",
        "#------------------------------------------------\n",
        "# Plot training and validation loss per epoch\n",
        "#------------------------------------------------\n",
        "plt.plot(epochs, loss, 'r')\n",
        "plt.plot(epochs, val_loss, 'b')\n",
        "plt.title('Training and validation loss')\n",
        "plt.xlabel(\"Epochs\")\n",
        "plt.ylabel(\"Loss\")\n",
        "plt.legend([\"Loss\", \"Validation Loss\"])\n",
        "\n",
        "plt.figure()\n",
        "\n",
        "\n",
        "# Expected Output\n",
        "# A chart where the validation loss does not increase sharply!"
      ],
      "execution_count": null,
      "outputs": [
        {
          "output_type": "execute_result",
          "data": {
            "text/plain": [
              "<Figure size 432x288 with 0 Axes>"
            ]
          },
          "metadata": {
            "tags": []
          },
          "execution_count": 19
        },
        {
          "output_type": "display_data",
          "data": {
            "image/png": "[encoded data removed]",
            "text/plain": [
              "<Figure size 432x288 with 1 Axes>"
            ]
          },
          "metadata": {
            "tags": [],
            "needs_background": "light"
          }
        },
        {
          "output_type": "display_data",
          "data": {
            "image/png": "[encoded data removed]",
            "text/plain": [
              "<Figure size 432x288 with 1 Axes>"
            ]
          },
          "metadata": {
            "tags": [],
            "needs_background": "light"
          }
        },
        {
          "output_type": "display_data",
          "data": {
            "text/plain": [
              "<Figure size 432x288 with 0 Axes>"
            ]
          },
          "metadata": {
            "tags": []
          }
        }
      ]
    },
    {
      "cell_type": "markdown",
      "metadata": {
        "id": "e9P9DOxTomlz"
      },
      "source": [
        "### Confusion Matrix / Classification matrix"
      ]
    },
    {
      "cell_type": "code",
      "metadata": {
        "colab": {
          "base_uri": "https://localhost:8080/"
        },
        "id": "CAqzjTnru5_P",
        "outputId": "2f7c776b-b4f7-4b3c-ad08-e4047619e47d"
      },
      "source": [
        "from sklearn.metrics import classification_report\n",
        "\n",
        "y_pred = model.predict(x_test, batch_size=64, verbose=2)\n",
        "y_pred_bool = np.argmax(y_pred, axis=1)\n",
        "#print(classification_report(y_test, y_pred_bool))\n",
        "y_pred_bool"
      ],
      "execution_count": null,
      "outputs": [
        {
          "output_type": "stream",
          "text": [
            "21/21 - 1s\n"
          ],
          "name": "stdout"
        },
        {
          "output_type": "execute_result",
          "data": {
            "text/plain": [
              "array([4, 4, 3, ..., 3, 2, 0])"
            ]
          },
          "metadata": {
            "tags": []
          },
          "execution_count": 20
        }
      ]
    },
    {
      "cell_type": "code",
      "metadata": {
        "colab": {
          "base_uri": "https://localhost:8080/"
        },
        "id": "magRKZZBvGxi",
        "outputId": "6267d17e-318a-4350-8bc5-df599ac3ae0d"
      },
      "source": [
        "y_test_data = y_test\n",
        "y_test_data.columns = [0, 1, 2, 3, 4]\n",
        "#y_test_data.columns = ['anger', 'fear',\t'happy',\t'love',\t'sadness']\n",
        "y_test_data.idxmax(1)"
      ],
      "execution_count": null,
      "outputs": [
        {
          "output_type": "execute_result",
          "data": {
            "text/plain": [
              "481     4\n",
              "3418    4\n",
              "2917    3\n",
              "2364    1\n",
              "1813    0\n",
              "       ..\n",
              "3144    0\n",
              "2553    0\n",
              "3571    2\n",
              "3273    2\n",
              "1065    0\n",
              "Length: 1321, dtype: int64"
            ]
          },
          "metadata": {
            "tags": []
          },
          "execution_count": 48
        }
      ]
    },
    {
      "cell_type": "code",
      "metadata": {
        "colab": {
          "base_uri": "https://localhost:8080/"
        },
        "id": "XRuZWFtevKgp",
        "outputId": "3a684bb8-f475-4727-8e38-bdcda8e186c0"
      },
      "source": [
        "print(classification_report(y_test_data.idxmax(1), y_pred_bool))"
      ],
      "execution_count": null,
      "outputs": [
        {
          "output_type": "stream",
          "text": [
            "              precision    recall  f1-score   support\n",
            "\n",
            "           0       0.63      0.64      0.63       331\n",
            "           1       0.64      0.64      0.64       195\n",
            "           2       0.60      0.55      0.58       305\n",
            "           3       0.69      0.61      0.65       191\n",
            "           4       0.42      0.48      0.45       299\n",
            "\n",
            "    accuracy                           0.58      1321\n",
            "   macro avg       0.60      0.58      0.59      1321\n",
            "weighted avg       0.59      0.58      0.58      1321\n",
            "\n"
          ],
          "name": "stdout"
        }
      ]
    },
    {
      "cell_type": "code",
      "metadata": {
        "id": "yJDZxQAOxgEw"
      },
      "source": [
        "from sklearn.metrics import multilabel_confusion_matrix\n",
        "\n",
        "conf_matrix = multilabel_confusion_matrix(y_test, pd.get_dummies(y_pred_bool))"
      ],
      "execution_count": null,
      "outputs": []
    },
    {
      "cell_type": "code",
      "metadata": {
        "colab": {
          "base_uri": "https://localhost:8080/",
          "height": 1000
        },
        "id": "MwtuQ6jVyzWu",
        "outputId": "8eec1a51-c143-452d-fcd0-a03da1d7d18f"
      },
      "source": [
        "import seaborn as sns\n",
        "\n",
        "labels = ['anger', 'fear',\t'happy',\t'love',\t'sadness']\n",
        "i = 0\n",
        "for cm in conf_matrix:\n",
        "  \n",
        "  f, ax = plt.subplots(figsize=(8,5))\n",
        "  sns.heatmap(cm, annot=True, fmt=\".0f\", ax=ax)\n",
        "  plt.xlabel(\"Predicted Label - {}\".format(labels[i]))\n",
        "  plt.ylabel(\"True Label  - {}\".format(labels[i]))\n",
        "  plt.show()\n",
        "\n",
        "  i+=1"
      ],
      "execution_count": null,
      "outputs": [
        {
          "output_type": "display_data",
          "data": {
            "image/png": "[encoded data removed]",
            "text/plain": [
              "<Figure size 576x360 with 2 Axes>"
            ]
          },
          "metadata": {
            "tags": [],
            "needs_background": "light"
          }
        },
        {
          "output_type": "display_data",
          "data": {
            "image/png": "[encoded data removed]",
            "text/plain": [
              "<Figure size 576x360 with 2 Axes>"
            ]
          },
          "metadata": {
            "tags": [],
            "needs_background": "light"
          }
        },
        {
          "output_type": "display_data",
          "data": {
            "image/png": "[encoded data removed]",
            "text/plain": [
              "<Figure size 576x360 with 2 Axes>"
            ]
          },
          "metadata": {
            "tags": [],
            "needs_background": "light"
          }
        },
        {
          "output_type": "display_data",
          "data": {
            "image/png": "[encoded data removed]",
            "text/plain": [
              "<Figure size 576x360 with 2 Axes>"
            ]
          },
          "metadata": {
            "tags": [],
            "needs_background": "light"
          }
        },
        {
          "output_type": "display_data",
          "data": {
            "image/png": "[encoded data removed]",
            "text/plain": [
              "<Figure size 576x360 with 2 Axes>"
            ]
          },
          "metadata": {
            "tags": [],
            "needs_background": "light"
          }
        }
      ]
    },
    {
      "cell_type": "markdown",
      "metadata": {
        "id": "arf4dDrqNnaU"
      },
      "source": [
        "\n",
        "# Additional: Saved Model, Load Model and Do prediction"
      ]
    },
    {
      "cell_type": "code",
      "metadata": {
        "id": "9HV9j6NaNmt_"
      },
      "source": [
        "model.save(\"emotion_detection.h5\") # We use this method"
      ],
      "execution_count": null,
      "outputs": []
    },
    {
      "cell_type": "code",
      "metadata": {
        "id": "RxagFuYFOIXW"
      },
      "source": [
        "# Load Model\n",
        "from tensorflow.keras.models import load_model\n",
        "model_emotion_detection = load_model(\"emotion_detection.h5\")"
      ],
      "execution_count": null,
      "outputs": []
    },
    {
      "cell_type": "code",
      "metadata": {
        "colab": {
          "base_uri": "https://localhost:8080/",
          "height": 52
        },
        "id": "YThKT4JfOQsE",
        "outputId": "5e4e64bb-e2d4-463d-c2ed-5420a20e56e4"
      },
      "source": [
        "# Do Prediction\n",
        "text = \"Hahaha ntah lah, kepengen rapi juga bilang tapi nyinyir bgt. Cari referensi noh di pinterest, buanyaaaak! Ga mesti mahal kok. Sesuaikan budget aja dan tau tempat \"\n",
        "\n",
        "# Change text to format that model can handle\n",
        "text = text.lower()\n",
        "substitute_word = ['[username]', '[url]', '[sensitive-no']\n",
        "text = ' '.join('' if words in substitute_word else words for words in text.split(' '))\n",
        "text = re.sub(r\"[^\\w\\s]\", ' ', text)\n",
        "text = re.sub(r\"\\d+\", '', text)\n",
        "text = text.strip()\n",
        "text"
      ],
      "execution_count": null,
      "outputs": [
        {
          "output_type": "execute_result",
          "data": {
            "application/vnd.google.colaboratory.intrinsic+json": {
              "type": "string"
            },
            "text/plain": [
              "'hahaha ntah lah  kepengen rapi juga bilang tapi nyinyir bgt  cari referensi noh di pinterest  buanyaaaak  ga mesti mahal kok  sesuaikan budget aja dan tau tempat'"
            ]
          },
          "metadata": {
            "tags": []
          },
          "execution_count": 52
        }
      ]
    },
    {
      "cell_type": "code",
      "metadata": {
        "id": "i9W4MZOXSXs-"
      },
      "source": [
        "# import and made dict for kamus alay to normalize abbreviation and misspelling\n",
        "alay_dict = pd.read_csv('new_kamusalay.csv', encoding='latin-1', header=None)\n",
        "alay_dict = alay_dict.rename(columns={0: 'original', 1: 'replacement'}) \n",
        "alay_dict_map = dict(zip(alay_dict['original'], alay_dict['replacement']))\n",
        "\n",
        "# Normalize Text using Typography Dict\n",
        "new_alay_dict = pd.read_csv('new_ka.csv', encoding='latin-1', header=None)\n",
        "new_alay_dict = new_alay_dict.rename(columns={0: 'original', 1: 'replacement'}) \n",
        "new_alay_dict_map = dict(zip(new_alay_dict['original'], new_alay_dict['replacement']))\n",
        "\n",
        "with open(\"combined_slang.txt\", \"r\") as data:\n",
        "    combined_slang_map = ast.literal_eval(data.read())\n",
        "\n",
        "text = ' '.join([alay_dict_map[word] if word in alay_dict_map else word for word in text.split(' ')])          \n",
        "text = re.sub('  +', ' ', text)     \n",
        "text = ' '.join([combined_slang_map[word] if word in combined_slang_map else word for word in text.split(' ')])\n",
        "text = re.sub('  +', ' ', text)         \n",
        "text = ' '.join([new_alay_dict_map[word] if word in new_alay_dict_map else word for word in text.split(' ')])\n",
        "text = re.sub('  +', ' ', text)\n",
        "text"
      ],
      "execution_count": null,
      "outputs": []
    },
    {
      "cell_type": "code",
      "metadata": {
        "id": "-loE5m0JSdxP"
      },
      "source": [
        "# Stemming text\n",
        "!pip install Sastrawi\n",
        "from Sastrawi.Stemmer.StemmerFactory import StemmerFactory\n",
        "factory_stm = StemmerFactory()\n",
        "stemmer = factory_stm.create_stemmer()\n",
        "\n",
        "text = stemmer.stem(text)\n",
        "text"
      ],
      "execution_count": null,
      "outputs": []
    },
    {
      "cell_type": "code",
      "metadata": {
        "id": "xghijMf4SZ7B"
      },
      "source": [
        "# Encode & Padding\n",
        "text = tokenizer.texts_to_sequences([text])\n",
        "text = pad_sequences(text, padding='post')"
      ],
      "execution_count": null,
      "outputs": []
    },
    {
      "cell_type": "code",
      "metadata": {
        "id": "OC7dv_xcPKwT"
      },
      "source": [
        "prediction_result = model_emotion_detection(text)\n",
        "prediction_result = np.argmax(prediction_result, axis=1)\n",
        "prediction_result"
      ],
      "execution_count": null,
      "outputs": []
    },
    {
      "cell_type": "code",
      "metadata": {
        "id": "QvcMZyIuQQxh"
      },
      "source": [
        "if prediction_result == 0:\n",
        "  print('Emotion: Anger')\n",
        "\n",
        "if prediction_result == 1:\n",
        "  print('Emotion: Fear')\n",
        "\n",
        "if prediction_result == 2:\n",
        "  print('Emotion: Happy')\n",
        "\n",
        "if prediction_result == 3:\n",
        "  print('Emotion: Love')\n",
        "\n",
        "if prediction_result == 4:\n",
        "  print('Emotion: Sadness')\n"
      ],
      "execution_count": null,
      "outputs": []
    },
    {
      "cell_type": "markdown",
      "metadata": {
        "id": "Ctqggg2U3yFM"
      },
      "source": [
        "# EDIT"
      ]
    },
    {
      "cell_type": "code",
      "metadata": {
        "colab": {
          "base_uri": "https://localhost:8080/"
        },
        "id": "bNs0BrKt1r9c",
        "outputId": "3e290fd4-cbb7-42b7-f454-7e0ab35f13c6"
      },
      "source": [
        "# Split data 7:3\n",
        "from sklearn.model_selection import train_test_split as tts\n",
        "\n",
        "_x_train, _x_test, _y_train, _y_test = tts(df['tweet'], df['label'], test_size=.3, \n",
        "                                       random_state=42, shuffle=True, \n",
        "                                       stratify=label)\n",
        "\n",
        "print(\"Train data = {0} data \\nTest data = {1} \".format(len(x_train), len(x_test)))"
      ],
      "execution_count": null,
      "outputs": [
        {
          "output_type": "stream",
          "text": [
            "Train data = 3080 data \n",
            "Test data = 1321 \n"
          ],
          "name": "stdout"
        }
      ]
    },
    {
      "cell_type": "code",
      "metadata": {
        "colab": {
          "base_uri": "https://localhost:8080/"
        },
        "id": "e8Td1JZs13dl",
        "outputId": "488a6dab-1693-47ee-bcce-8e227fcada25"
      },
      "source": [
        "print(_x_test[1105])\n",
        "print(_y_test[1105])"
      ],
      "execution_count": null,
      "outputs": [
        {
          "output_type": "stream",
          "text": [
            "bahagia birthday sari all the best sehat selalu sukses cita cinta moga sari dan keluarga selalu lindung tuhan amin\n",
            "happy\n"
          ],
          "name": "stdout"
        }
      ]
    },
    {
      "cell_type": "code",
      "metadata": {
        "colab": {
          "base_uri": "https://localhost:8080/"
        },
        "id": "muhqvwYK2Nmu",
        "outputId": "dc959ee5-6dc5-4d8b-a89a-d189e610d7ab"
      },
      "source": [
        "print(y_test[11:20])"
      ],
      "execution_count": null,
      "outputs": [
        {
          "output_type": "stream",
          "text": [
            "      anger  fear  happy  love  sadness\n",
            "1490      0     0      0     0        1\n",
            "3108      1     0      0     0        0\n",
            "1905      1     0      0     0        0\n",
            "3573      0     0      1     0        0\n",
            "2359      0     1      0     0        0\n",
            "1210      0     0      1     0        0\n",
            "1796      0     0      0     0        1\n",
            "4030      0     0      1     0        0\n",
            "2994      0     0      0     0        1\n"
          ],
          "name": "stdout"
        }
      ]
    },
    {
      "cell_type": "code",
      "metadata": {
        "colab": {
          "base_uri": "https://localhost:8080/"
        },
        "id": "U_nkwTZ64AUx",
        "outputId": "86ce2602-ee1f-4daa-e147-ca8f9c4eb009"
      },
      "source": [
        "y_pred_bool[11:20]"
      ],
      "execution_count": null,
      "outputs": [
        {
          "output_type": "execute_result",
          "data": {
            "text/plain": [
              "array([2, 0, 0, 3, 3, 2, 4, 0, 1])"
            ]
          },
          "metadata": {
            "tags": []
          },
          "execution_count": 24
        }
      ]
    },
    {
      "cell_type": "code",
      "metadata": {
        "colab": {
          "base_uri": "https://localhost:8080/"
        },
        "id": "HA4YK7Dg4odW",
        "outputId": "59072aa0-5d50-461a-d848-83d575957461"
      },
      "source": [
        "y_test_bool = np.argmax(y_test.to_numpy(), axis=1)\n",
        "#print(classification_report(y_test, y_pred_bool))\n",
        "y_test_bool"
      ],
      "execution_count": null,
      "outputs": [
        {
          "output_type": "execute_result",
          "data": {
            "text/plain": [
              "array([4, 4, 3, ..., 2, 2, 0])"
            ]
          },
          "metadata": {
            "tags": []
          },
          "execution_count": 25
        }
      ]
    },
    {
      "cell_type": "code",
      "metadata": {
        "colab": {
          "base_uri": "https://localhost:8080/"
        },
        "id": "rh1w6IqW47za",
        "outputId": "10f829ba-f31f-4c31-cf23-c772777ee3b2"
      },
      "source": [
        "(unique, counts) = np.unique(y_test_bool, return_counts=True)\n",
        "frequencies = np.asarray((unique, counts)).T\n",
        "frequencies"
      ],
      "execution_count": null,
      "outputs": [
        {
          "output_type": "execute_result",
          "data": {
            "text/plain": [
              "array([[  0, 331],\n",
              "       [  1, 195],\n",
              "       [  2, 305],\n",
              "       [  3, 191],\n",
              "       [  4, 299]])"
            ]
          },
          "metadata": {
            "tags": []
          },
          "execution_count": 26
        }
      ]
    },
    {
      "cell_type": "code",
      "metadata": {
        "colab": {
          "base_uri": "https://localhost:8080/"
        },
        "id": "xWVFBXzD5Vdc",
        "outputId": "8f55eca0-6c48-4b29-8dcc-e7567cf7e6b7"
      },
      "source": [
        "(unique, counts) = np.unique(y_pred_bool, return_counts=True)\n",
        "frequencies = np.asarray((unique, counts)).T\n",
        "frequencies"
      ],
      "execution_count": null,
      "outputs": [
        {
          "output_type": "execute_result",
          "data": {
            "text/plain": [
              "array([[  0, 337],\n",
              "       [  1, 195],\n",
              "       [  2, 281],\n",
              "       [  3, 167],\n",
              "       [  4, 341]])"
            ]
          },
          "metadata": {
            "tags": []
          },
          "execution_count": 27
        }
      ]
    },
    {
      "cell_type": "code",
      "metadata": {
        "id": "dO2RWyWI5lvS"
      },
      "source": [
        "i = 0\n",
        "sadness = 0\n",
        "love = 0\n",
        "happy = 0\n",
        "fear = 0\n",
        "anger = 0\n",
        "\n",
        "_anger = [0, 0, 0, 0, 0]\n",
        "_fear = [0, 0, 0, 0, 0]\n",
        "_happy = [0, 0, 0, 0, 0]\n",
        "_love = [0, 0, 0, 0, 0]\n",
        "_sadness = [0, 0, 0, 0, 0]\n",
        "\n",
        "while i < (len(y_test)):\n",
        "  if y_pred_bool[i] == y_test_bool[i]:\n",
        "    if y_test_bool[i] == 0:\n",
        "      _anger[y_pred_bool[i]] += 1\n",
        "\n",
        "    if y_test_bool[i] == 1:\n",
        "      _fear[y_pred_bool[i]] += 1\n",
        "\n",
        "    if y_test_bool[i] == 2:\n",
        "      _happy[y_pred_bool[i]] += 1\n",
        "\n",
        "    if y_test_bool[i] == 3:\n",
        "      _love[y_pred_bool[i]] += 1\n",
        "\n",
        "    if y_test_bool[i] == 4:\n",
        "      _sadness[y_pred_bool[i]] += 1\n",
        "\n",
        "  i+=1\n",
        "\n"
      ],
      "execution_count": null,
      "outputs": []
    },
    {
      "cell_type": "code",
      "metadata": {
        "colab": {
          "base_uri": "https://localhost:8080/"
        },
        "id": "JmG032kF64WS",
        "outputId": "50068db5-a1fd-4d9b-b5d4-8de9573f330d"
      },
      "source": [
        "print(\"Sadness : \", _sadness)\n",
        "print(\"love : \", _love)\n",
        "print(\"happy : \", _happy)\n",
        "print(\"fear : \", _fear)\n",
        "print(\"anger : \", _anger)"
      ],
      "execution_count": null,
      "outputs": [
        {
          "output_type": "stream",
          "text": [
            "Sadness :  [0, 0, 0, 0, 144]\n",
            "love :  [0, 0, 0, 116, 0]\n",
            "happy :  [0, 0, 169, 0, 0]\n",
            "fear :  [0, 124, 0, 0, 0]\n",
            "anger :  [212, 0, 0, 0, 0]\n"
          ],
          "name": "stdout"
        }
      ]
    }
  ]
}